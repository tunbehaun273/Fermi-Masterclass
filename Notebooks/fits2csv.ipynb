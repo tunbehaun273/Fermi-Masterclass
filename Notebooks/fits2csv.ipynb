{
 "cells": [
  {
   "cell_type": "code",
   "execution_count": 19,
   "id": "b90f11f5",
   "metadata": {},
   "outputs": [],
   "source": [
    "import os,sys\n",
    "import astropy.io.fits as pyfits\n",
    "from astropy.wcs import WCS\n",
    "from astropy.table import Table\n"
   ]
  },
  {
   "cell_type": "code",
   "execution_count": 20,
   "id": "77b367a7",
   "metadata": {},
   "outputs": [
    {
     "name": "stdout",
     "output_type": "stream",
     "text": [
      "['GRB221009A_PH00.fits', 'GRB131108A_PH00.fits', 'GRB140402A_PH00.fits', 'GRB080916C_PH00.fits', 'GRB130427A_PH00.fits', 'GRB090510_PH00.fits', 'GRB090902B_PH00.fits']\n"
     ]
    }
   ],
   "source": [
    "folder_in = '../data_fits/'\n",
    "folder_out = '../data_csv/'\n",
    "fns = os.listdir(folder_in)\n",
    "print(fns)"
   ]
  },
  {
   "cell_type": "code",
   "execution_count": 21,
   "id": "6e0f294f",
   "metadata": {},
   "outputs": [
    {
     "name": "stdout",
     "output_type": "stream",
     "text": [
      "../data_fits/GRB130427A_PH00.fits\n"
     ]
    }
   ],
   "source": [
    "fn = 'GRB130427A_PH00.fits'\n",
    "fn_out = fn.replace('fits', 'csv')\n",
    "print(folder_in + fn)\n",
    "hdu = pyfits.open(folder_in + fn)"
   ]
  },
  {
   "cell_type": "code",
   "execution_count": 22,
   "id": "3b0b7fd0",
   "metadata": {},
   "outputs": [],
   "source": [
    "table = Table(hdu[1].data)"
   ]
  },
  {
   "cell_type": "code",
   "execution_count": 28,
   "id": "0df0290a",
   "metadata": {},
   "outputs": [
    {
     "data": {
      "text/plain": [
       "2593"
      ]
     },
     "execution_count": 28,
     "metadata": {},
     "output_type": "execute_result"
    }
   ],
   "source": [
    "len(table)"
   ]
  },
  {
   "cell_type": "code",
   "execution_count": 23,
   "id": "df27fb83",
   "metadata": {},
   "outputs": [
    {
     "data": {
      "text/html": [
       "<div><i>Table length=4</i>\n",
       "<table id=\"table140361203435024\" class=\"table-striped table-bordered table-condensed\">\n",
       "<thead><tr><th>ENERGY</th><th>L</th><th>B</th><th>TIME</th></tr></thead>\n",
       "<thead><tr><th>float32</th><th>float32</th><th>float32</th><th>float64</th></tr></thead>\n",
       "<tr><td>179.80367</td><td>235.34985</td><td>77.23865</td><td>388742504.0993495</td></tr>\n",
       "<tr><td>252.59879</td><td>239.89934</td><td>76.56226</td><td>388742540.69791454</td></tr>\n",
       "<tr><td>230.7604</td><td>238.36382</td><td>77.03705</td><td>388742562.65387505</td></tr>\n",
       "<tr><td>359.71378</td><td>234.9398</td><td>77.27769</td><td>388742574.5018242</td></tr>\n",
       "</table></div>"
      ],
      "text/plain": [
       "<Table length=4>\n",
       "  ENERGY      L        B            TIME       \n",
       " float32   float32  float32       float64      \n",
       "--------- --------- -------- ------------------\n",
       "179.80367 235.34985 77.23865  388742504.0993495\n",
       "252.59879 239.89934 76.56226 388742540.69791454\n",
       " 230.7604 238.36382 77.03705 388742562.65387505\n",
       "359.71378  234.9398 77.27769  388742574.5018242"
      ]
     },
     "execution_count": 23,
     "metadata": {},
     "output_type": "execute_result"
    }
   ],
   "source": [
    "cols = ['ENERGY', 'L', 'B', 'TIME']\n",
    "table[cols][:4]"
   ]
  },
  {
   "cell_type": "code",
   "execution_count": 24,
   "id": "77f05f72",
   "metadata": {},
   "outputs": [],
   "source": [
    "table[cols].write(folder_out + fn_out, format='csv', overwrite=True)"
   ]
  },
  {
   "cell_type": "code",
   "execution_count": 25,
   "id": "9b91be39",
   "metadata": {},
   "outputs": [],
   "source": [
    "table_check = Table.read(folder_out + fn_out)"
   ]
  },
  {
   "cell_type": "code",
   "execution_count": 26,
   "id": "9bfdea79",
   "metadata": {},
   "outputs": [
    {
     "data": {
      "text/html": [
       "<div><i>Table length=3</i>\n",
       "<table id=\"table140361203437072\" class=\"table-striped table-bordered table-condensed\">\n",
       "<thead><tr><th>ENERGY</th><th>L</th><th>B</th><th>TIME</th></tr></thead>\n",
       "<thead><tr><th>float64</th><th>float64</th><th>float64</th><th>float64</th></tr></thead>\n",
       "<tr><td>179.8036651611328</td><td>235.349853515625</td><td>77.2386474609375</td><td>388742504.0993495</td></tr>\n",
       "<tr><td>252.59878540039062</td><td>239.8993377685547</td><td>76.56226348876953</td><td>388742540.69791454</td></tr>\n",
       "<tr><td>230.76040649414062</td><td>238.3638153076172</td><td>77.03704833984375</td><td>388742562.65387505</td></tr>\n",
       "</table></div>"
      ],
      "text/plain": [
       "<Table length=3>\n",
       "      ENERGY               L                 B                TIME       \n",
       "     float64            float64           float64           float64      \n",
       "------------------ ----------------- ----------------- ------------------\n",
       " 179.8036651611328  235.349853515625  77.2386474609375  388742504.0993495\n",
       "252.59878540039062 239.8993377685547 76.56226348876953 388742540.69791454\n",
       "230.76040649414062 238.3638153076172 77.03704833984375 388742562.65387505"
      ]
     },
     "execution_count": 26,
     "metadata": {},
     "output_type": "execute_result"
    }
   ],
   "source": [
    "table_check[:3]"
   ]
  },
  {
   "cell_type": "code",
   "execution_count": 27,
   "id": "3e9cd7de",
   "metadata": {},
   "outputs": [
    {
     "data": {
      "text/plain": [
       "2593"
      ]
     },
     "execution_count": 27,
     "metadata": {},
     "output_type": "execute_result"
    }
   ],
   "source": [
    "len(table_check)"
   ]
  },
  {
   "cell_type": "code",
   "execution_count": null,
   "id": "57826664",
   "metadata": {},
   "outputs": [],
   "source": []
  }
 ],
 "metadata": {
  "kernelspec": {
   "display_name": "Python 3",
   "language": "python",
   "name": "python3"
  },
  "language_info": {
   "codemirror_mode": {
    "name": "ipython",
    "version": 3
   },
   "file_extension": ".py",
   "mimetype": "text/x-python",
   "name": "python",
   "nbconvert_exporter": "python",
   "pygments_lexer": "ipython3",
   "version": "3.7.5"
  }
 },
 "nbformat": 4,
 "nbformat_minor": 5
}
