{
 "cells": [
  {
   "cell_type": "code",
   "execution_count": 62,
   "id": "16501cfc",
   "metadata": {},
   "outputs": [],
   "source": [
    "import os,sys\n",
    "import astropy.io.fits as pyfits\n",
    "from astropy.wcs import WCS\n",
    "from astropy.table import Table\n"
   ]
  },
  {
   "cell_type": "code",
   "execution_count": 91,
   "id": "c1752b5a",
   "metadata": {},
   "outputs": [
    {
     "name": "stdout",
     "output_type": "stream",
     "text": [
      "['GRB131108A_PH00.fits', 'GRB140402A_PH00.fits', 'GRB080916C_PH00.fits', 'GRB090510_PH00.fits', 'GRB090902B_PH00.fits']\n"
     ]
    }
   ],
   "source": [
    "folder_in = '../data_fits/'\n",
    "folder_out = '../data_csv/'\n",
    "fns = os.listdir(folder)\n",
    "print(fns)"
   ]
  },
  {
   "cell_type": "code",
   "execution_count": 92,
   "id": "c63864e6",
   "metadata": {},
   "outputs": [
    {
     "name": "stdout",
     "output_type": "stream",
     "text": [
      "../data_fits/GRB090902B_PH00.fits\n"
     ]
    }
   ],
   "source": [
    "fn = 'GRB090902B_PH00.fits'\n",
    "fn_out = fn.replace('fits', 'csv')\n",
    "print(folder_in + fn)\n",
    "hdu = pyfits.open(folder_in + fn)"
   ]
  },
  {
   "cell_type": "code",
   "execution_count": 93,
   "id": "4ae79364",
   "metadata": {},
   "outputs": [],
   "source": [
    "table = Table(hdu[1].data)"
   ]
  },
  {
   "cell_type": "code",
   "execution_count": 94,
   "id": "15daf47a",
   "metadata": {},
   "outputs": [
    {
     "data": {
      "text/html": [
       "<div><i>Table length=4</i>\n",
       "<table id=\"table140408385933968\" class=\"table-striped table-bordered table-condensed\">\n",
       "<thead><tr><th>ENERGY</th><th>L</th><th>B</th><th>TIME</th></tr></thead>\n",
       "<thead><tr><th>float32</th><th>float32</th><th>float32</th><th>float64</th></tr></thead>\n",
       "<tr><td>134.73685</td><td>353.99832</td><td>68.15949</td><td>418090210.5129808</td></tr>\n",
       "<tr><td>814.6374</td><td>352.42297</td><td>72.01904</td><td>418090227.61154634</td></tr>\n",
       "<tr><td>185.36295</td><td>339.69742</td><td>59.933273</td><td>418089715.74833965</td></tr>\n",
       "<tr><td>298.30804</td><td>338.42706</td><td>60.588474</td><td>418089990.0895184</td></tr>\n",
       "</table></div>"
      ],
      "text/plain": [
       "<Table length=4>\n",
       "  ENERGY      L         B            TIME       \n",
       " float32   float32   float32       float64      \n",
       "--------- --------- --------- ------------------\n",
       "134.73685 353.99832  68.15949  418090210.5129808\n",
       " 814.6374 352.42297  72.01904 418090227.61154634\n",
       "185.36295 339.69742 59.933273 418089715.74833965\n",
       "298.30804 338.42706 60.588474  418089990.0895184"
      ]
     },
     "execution_count": 94,
     "metadata": {},
     "output_type": "execute_result"
    }
   ],
   "source": [
    "cols = ['ENERGY', 'L', 'B', 'TIME']\n",
    "table[cols][:4]"
   ]
  },
  {
   "cell_type": "code",
   "execution_count": 95,
   "id": "3ef257ad",
   "metadata": {},
   "outputs": [],
   "source": [
    "table[cols].write(folder_out + fn_out, format='csv', overwrite=True)"
   ]
  },
  {
   "cell_type": "code",
   "execution_count": 96,
   "id": "8bb39ec2",
   "metadata": {},
   "outputs": [],
   "source": [
    "table_check = Table.read(folder_out + fn_out)"
   ]
  },
  {
   "cell_type": "code",
   "execution_count": 97,
   "id": "d8e8ddd5",
   "metadata": {},
   "outputs": [
    {
     "data": {
      "text/html": [
       "<div><i>Table length=3</i>\n",
       "<table id=\"table140408385771600\" class=\"table-striped table-bordered table-condensed\">\n",
       "<thead><tr><th>ENERGY</th><th>L</th><th>B</th><th>TIME</th></tr></thead>\n",
       "<thead><tr><th>float64</th><th>float64</th><th>float64</th><th>float64</th></tr></thead>\n",
       "<tr><td>134.73684692382812</td><td>353.9983215332031</td><td>68.15949249267578</td><td>418090210.5129808</td></tr>\n",
       "<tr><td>814.6373901367188</td><td>352.4229736328125</td><td>72.01904296875</td><td>418090227.61154634</td></tr>\n",
       "<tr><td>185.36294555664062</td><td>339.6974182128906</td><td>59.93327331542969</td><td>418089715.74833965</td></tr>\n",
       "</table></div>"
      ],
      "text/plain": [
       "<Table length=3>\n",
       "      ENERGY               L                 B                TIME       \n",
       "     float64            float64           float64           float64      \n",
       "------------------ ----------------- ----------------- ------------------\n",
       "134.73684692382812 353.9983215332031 68.15949249267578  418090210.5129808\n",
       " 814.6373901367188 352.4229736328125    72.01904296875 418090227.61154634\n",
       "185.36294555664062 339.6974182128906 59.93327331542969 418089715.74833965"
      ]
     },
     "execution_count": 97,
     "metadata": {},
     "output_type": "execute_result"
    }
   ],
   "source": [
    "table_check[:3]"
   ]
  },
  {
   "cell_type": "code",
   "execution_count": null,
   "id": "6c3e05b1",
   "metadata": {},
   "outputs": [],
   "source": []
  },
  {
   "cell_type": "code",
   "execution_count": null,
   "id": "b46cae7c",
   "metadata": {},
   "outputs": [],
   "source": []
  }
 ],
 "metadata": {
  "kernelspec": {
   "display_name": "Python 3",
   "language": "python",
   "name": "python3"
  },
  "language_info": {
   "codemirror_mode": {
    "name": "ipython",
    "version": 3
   },
   "file_extension": ".py",
   "mimetype": "text/x-python",
   "name": "python",
   "nbconvert_exporter": "python",
   "pygments_lexer": "ipython3",
   "version": "3.7.5"
  }
 },
 "nbformat": 4,
 "nbformat_minor": 5
}
