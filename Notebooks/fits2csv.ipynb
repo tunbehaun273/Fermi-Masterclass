{
 "cells": [
  {
   "cell_type": "code",
   "execution_count": 105,
   "id": "0c13c3ea",
   "metadata": {},
   "outputs": [],
   "source": [
    "import os,sys\n",
    "import astropy.io.fits as pyfits\n",
    "from astropy.wcs import WCS\n",
    "from astropy.table import Table\n"
   ]
  },
  {
   "cell_type": "code",
   "execution_count": 106,
   "id": "3aef4b54",
   "metadata": {},
   "outputs": [
    {
     "name": "stdout",
     "output_type": "stream",
     "text": [
      "['GRB221009A_PH00.fits', 'GRB131108A_PH00.fits', 'GRB140402A_PH00.fits', 'GRB080916C_PH00.fits', 'GRB090510_PH00.fits', 'GRB090902B_PH00.fits']\n"
     ]
    }
   ],
   "source": [
    "folder_in = '../data_fits/'\n",
    "folder_out = '../data_csv/'\n",
    "fns = os.listdir(folder)\n",
    "print(fns)"
   ]
  },
  {
   "cell_type": "code",
   "execution_count": 107,
   "id": "b789f4f2",
   "metadata": {},
   "outputs": [
    {
     "name": "stdout",
     "output_type": "stream",
     "text": [
      "../data_fits/GRB221009A_PH00.fits\n"
     ]
    }
   ],
   "source": [
    "fn = 'GRB221009A_PH00.fits'\n",
    "fn_out = fn.replace('fits', 'csv')\n",
    "print(folder_in + fn)\n",
    "hdu = pyfits.open(folder_in + fn)"
   ]
  },
  {
   "cell_type": "code",
   "execution_count": 108,
   "id": "94462018",
   "metadata": {},
   "outputs": [],
   "source": [
    "table = Table(hdu[1].data)"
   ]
  },
  {
   "cell_type": "code",
   "execution_count": 109,
   "id": "965f0c17",
   "metadata": {},
   "outputs": [
    {
     "data": {
      "text/html": [
       "<div><i>Table length=4</i>\n",
       "<table id=\"table140408386015312\" class=\"table-striped table-bordered table-condensed\">\n",
       "<thead><tr><th>ENERGY</th><th>L</th><th>B</th><th>TIME</th></tr></thead>\n",
       "<thead><tr><th>float32</th><th>float32</th><th>float32</th><th>float64</th></tr></thead>\n",
       "<tr><td>257.39127</td><td>59.154556</td><td>-0.92804635</td><td>687013836.9553113</td></tr>\n",
       "<tr><td>141.5144</td><td>50.951057</td><td>-5.383167</td><td>687014466.7348472</td></tr>\n",
       "<tr><td>2306.2493</td><td>52.91279</td><td>13.285744</td><td>687013897.7800932</td></tr>\n",
       "<tr><td>414.58682</td><td>56.4435</td><td>0.792521</td><td>687013739.0772711</td></tr>\n",
       "</table></div>"
      ],
      "text/plain": [
       "<Table length=4>\n",
       "  ENERGY      L          B             TIME      \n",
       " float32   float32    float32        float64     \n",
       "--------- --------- ----------- -----------------\n",
       "257.39127 59.154556 -0.92804635 687013836.9553113\n",
       " 141.5144 50.951057   -5.383167 687014466.7348472\n",
       "2306.2493  52.91279   13.285744 687013897.7800932\n",
       "414.58682   56.4435    0.792521 687013739.0772711"
      ]
     },
     "execution_count": 109,
     "metadata": {},
     "output_type": "execute_result"
    }
   ],
   "source": [
    "cols = ['ENERGY', 'L', 'B', 'TIME']\n",
    "table[cols][:4]"
   ]
  },
  {
   "cell_type": "code",
   "execution_count": 110,
   "id": "19459dff",
   "metadata": {},
   "outputs": [],
   "source": [
    "table[cols].write(folder_out + fn_out, format='csv', overwrite=True)"
   ]
  },
  {
   "cell_type": "code",
   "execution_count": 111,
   "id": "ba22b61c",
   "metadata": {},
   "outputs": [],
   "source": [
    "table_check = Table.read(folder_out + fn_out)"
   ]
  },
  {
   "cell_type": "code",
   "execution_count": 112,
   "id": "5be74800",
   "metadata": {},
   "outputs": [
    {
     "data": {
      "text/html": [
       "<div><i>Table length=3</i>\n",
       "<table id=\"table140408386017232\" class=\"table-striped table-bordered table-condensed\">\n",
       "<thead><tr><th>ENERGY</th><th>L</th><th>B</th><th>TIME</th></tr></thead>\n",
       "<thead><tr><th>float64</th><th>float64</th><th>float64</th><th>float64</th></tr></thead>\n",
       "<tr><td>257.3912658691406</td><td>59.15455627441406</td><td>-0.9280463457107544</td><td>687013836.9553113</td></tr>\n",
       "<tr><td>141.514404296875</td><td>50.95105743408203</td><td>-5.383166790008545</td><td>687014466.7348472</td></tr>\n",
       "<tr><td>2306.249267578125</td><td>52.91278839111328</td><td>13.285743713378906</td><td>687013897.7800932</td></tr>\n",
       "</table></div>"
      ],
      "text/plain": [
       "<Table length=3>\n",
       "      ENERGY              L                  B                 TIME      \n",
       "     float64           float64            float64            float64     \n",
       "----------------- ----------------- ------------------- -----------------\n",
       "257.3912658691406 59.15455627441406 -0.9280463457107544 687013836.9553113\n",
       " 141.514404296875 50.95105743408203  -5.383166790008545 687014466.7348472\n",
       "2306.249267578125 52.91278839111328  13.285743713378906 687013897.7800932"
      ]
     },
     "execution_count": 112,
     "metadata": {},
     "output_type": "execute_result"
    }
   ],
   "source": [
    "table_check[:3]"
   ]
  },
  {
   "cell_type": "code",
   "execution_count": null,
   "id": "78273ff4",
   "metadata": {},
   "outputs": [],
   "source": []
  },
  {
   "cell_type": "code",
   "execution_count": null,
   "id": "c8997057",
   "metadata": {},
   "outputs": [],
   "source": []
  }
 ],
 "metadata": {
  "kernelspec": {
   "display_name": "Python 3",
   "language": "python",
   "name": "python3"
  },
  "language_info": {
   "codemirror_mode": {
    "name": "ipython",
    "version": 3
   },
   "file_extension": ".py",
   "mimetype": "text/x-python",
   "name": "python",
   "nbconvert_exporter": "python",
   "pygments_lexer": "ipython3",
   "version": "3.7.5"
  }
 },
 "nbformat": 4,
 "nbformat_minor": 5
}
