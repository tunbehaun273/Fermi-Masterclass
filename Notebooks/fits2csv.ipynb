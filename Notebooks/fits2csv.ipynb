{
 "cells": [
  {
   "cell_type": "code",
   "execution_count": 62,
   "id": "794d4878",
   "metadata": {},
   "outputs": [],
   "source": [
    "import os,sys\n",
    "import astropy.io.fits as pyfits\n",
    "from astropy.wcs import WCS\n",
    "from astropy.table import Table\n"
   ]
  },
  {
   "cell_type": "code",
   "execution_count": 63,
   "id": "1dafcb49",
   "metadata": {},
   "outputs": [],
   "source": [
    "folder_in = '../data_fits/'\n",
    "folder_out = '../data_csv/'\n",
    "fns = os.listdir(folder)"
   ]
  },
  {
   "cell_type": "code",
   "execution_count": 64,
   "id": "e712c57b",
   "metadata": {},
   "outputs": [
    {
     "name": "stdout",
     "output_type": "stream",
     "text": [
      "../data_fits/GRB090510_PH00.fits\n"
     ]
    }
   ],
   "source": [
    "#fn = 'GRB090510_PH00.fits'\n",
    "fn = fns[1]\n",
    "fn_out = fn.replace('fits', 'csv')\n",
    "print(folder_in + fn)\n",
    "hdu = pyfits.open(folder_in + fn)"
   ]
  },
  {
   "cell_type": "code",
   "execution_count": 65,
   "id": "940233cb",
   "metadata": {},
   "outputs": [],
   "source": [
    "table = Table(hdu[1].data)"
   ]
  },
  {
   "cell_type": "code",
   "execution_count": 66,
   "id": "788d3062",
   "metadata": {},
   "outputs": [
    {
     "data": {
      "text/html": [
       "<div><i>Table length=4</i>\n",
       "<table id=\"table140408404903824\" class=\"table-striped table-bordered table-condensed\">\n",
       "<thead><tr><th>ENERGY</th><th>L</th><th>B</th><th>TIME</th></tr></thead>\n",
       "<thead><tr><th>float32</th><th>float32</th><th>float32</th><th>float64</th></tr></thead>\n",
       "<tr><td>264.5528</td><td>30.411175</td><td>-53.82001</td><td>263607783.87700403</td></tr>\n",
       "<tr><td>299.7934</td><td>28.130974</td><td>-55.302532</td><td>263607782.620678</td></tr>\n",
       "<tr><td>132.95584</td><td>25.780865</td><td>-59.306484</td><td>263607782.77282444</td></tr>\n",
       "<tr><td>161.18507</td><td>28.486742</td><td>-56.528515</td><td>263607782.7955843</td></tr>\n",
       "</table></div>"
      ],
      "text/plain": [
       "<Table length=4>\n",
       "  ENERGY      L         B             TIME       \n",
       " float32   float32   float32        float64      \n",
       "--------- --------- ---------- ------------------\n",
       " 264.5528 30.411175  -53.82001 263607783.87700403\n",
       " 299.7934 28.130974 -55.302532   263607782.620678\n",
       "132.95584 25.780865 -59.306484 263607782.77282444\n",
       "161.18507 28.486742 -56.528515  263607782.7955843"
      ]
     },
     "execution_count": 66,
     "metadata": {},
     "output_type": "execute_result"
    }
   ],
   "source": [
    "cols = ['ENERGY', 'L', 'B', 'TIME']\n",
    "table[cols][:4]"
   ]
  },
  {
   "cell_type": "code",
   "execution_count": 67,
   "id": "9bb4ae7b",
   "metadata": {},
   "outputs": [],
   "source": [
    "table[cols].write(folder_out + fn_out, format='csv', overwrite=True)"
   ]
  },
  {
   "cell_type": "code",
   "execution_count": 68,
   "id": "5b216cb7",
   "metadata": {},
   "outputs": [],
   "source": [
    "table_check = Table.read(folder_out + fn_out)"
   ]
  },
  {
   "cell_type": "code",
   "execution_count": 69,
   "id": "369da773",
   "metadata": {},
   "outputs": [
    {
     "data": {
      "text/html": [
       "<div><i>Table length=3</i>\n",
       "<table id=\"table140408329976528\" class=\"table-striped table-bordered table-condensed\">\n",
       "<thead><tr><th>ENERGY</th><th>L</th><th>B</th><th>TIME</th></tr></thead>\n",
       "<thead><tr><th>float64</th><th>float64</th><th>float64</th><th>float64</th></tr></thead>\n",
       "<tr><td>264.55279541015625</td><td>30.411174774169922</td><td>-53.820011138916016</td><td>263607783.87700403</td></tr>\n",
       "<tr><td>299.79339599609375</td><td>28.13097381591797</td><td>-55.30253219604492</td><td>263607782.620678</td></tr>\n",
       "<tr><td>132.95584106445312</td><td>25.780864715576172</td><td>-59.30648422241211</td><td>263607782.77282444</td></tr>\n",
       "</table></div>"
      ],
      "text/plain": [
       "<Table length=3>\n",
       "      ENERGY               L                   B                 TIME       \n",
       "     float64            float64             float64            float64      \n",
       "------------------ ------------------ ------------------- ------------------\n",
       "264.55279541015625 30.411174774169922 -53.820011138916016 263607783.87700403\n",
       "299.79339599609375  28.13097381591797  -55.30253219604492   263607782.620678\n",
       "132.95584106445312 25.780864715576172  -59.30648422241211 263607782.77282444"
      ]
     },
     "execution_count": 69,
     "metadata": {},
     "output_type": "execute_result"
    }
   ],
   "source": [
    "table_check[:3]"
   ]
  },
  {
   "cell_type": "code",
   "execution_count": null,
   "id": "c2801d0e",
   "metadata": {},
   "outputs": [],
   "source": []
  },
  {
   "cell_type": "code",
   "execution_count": null,
   "id": "56de07c3",
   "metadata": {},
   "outputs": [],
   "source": []
  }
 ],
 "metadata": {
  "kernelspec": {
   "display_name": "Python 3",
   "language": "python",
   "name": "python3"
  },
  "language_info": {
   "codemirror_mode": {
    "name": "ipython",
    "version": 3
   },
   "file_extension": ".py",
   "mimetype": "text/x-python",
   "name": "python",
   "nbconvert_exporter": "python",
   "pygments_lexer": "ipython3",
   "version": "3.7.5"
  }
 },
 "nbformat": 4,
 "nbformat_minor": 5
}
